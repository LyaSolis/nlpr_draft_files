{
 "cells": [
  {
   "cell_type": "code",
   "execution_count": null,
   "id": "4897ee9a",
   "metadata": {},
   "outputs": [],
   "source": [
    "# brew install poppler\n",
    "# conda create --name pdf2txt python=3.7\n",
    "# conda activate pdf2txt\n",
    "# conda install poppler\n",
    "# pip install pdftotext\n",
    "# conda install -y ipykernel\n",
    "# conda install -y ipython_genutils\n",
    "# ipython kernel install --user --name=pdf2txt"
   ]
  },
  {
   "cell_type": "code",
   "execution_count": 1,
   "id": "b982547e",
   "metadata": {},
   "outputs": [],
   "source": [
    "import pdftotext"
   ]
  },
  {
   "cell_type": "code",
   "execution_count": 9,
   "id": "cdeb9d2e",
   "metadata": {},
   "outputs": [
    {
     "name": "stdout",
     "output_type": "stream",
     "text": [
      "1078-0432.CCR-14-0516.txt\r\n"
     ]
    }
   ],
   "source": [
    "!ls ../exBERT/data/pdf2txt"
   ]
  },
  {
   "cell_type": "code",
   "execution_count": 12,
   "id": "b5e06d61",
   "metadata": {},
   "outputs": [],
   "source": [
    "# Load your PDF\n",
    "with open(\"../exBERT/data/pdf/bcp.13232.pdf\", \"rb\") as f:\n",
    "    pdf = pdftotext.PDF(f)"
   ]
  },
  {
   "cell_type": "code",
   "execution_count": 13,
   "id": "894f4085",
   "metadata": {},
   "outputs": [],
   "source": [
    "# Save all text to a txt file.\n",
    "with open(\"../exBERT/data/pdf2txt/bcp.13232.txt\", 'w') as f:\n",
    "    f.write(\"\\n\\n\".join(pdf))"
   ]
  },
  {
   "cell_type": "code",
   "execution_count": null,
   "id": "06b22ff6",
   "metadata": {},
   "outputs": [],
   "source": []
  }
 ],
 "metadata": {
  "kernelspec": {
   "display_name": "pdf2txt",
   "language": "python",
   "name": "pdf2txt"
  },
  "language_info": {
   "codemirror_mode": {
    "name": "ipython",
    "version": 3
   },
   "file_extension": ".py",
   "mimetype": "text/x-python",
   "name": "python",
   "nbconvert_exporter": "python",
   "pygments_lexer": "ipython3",
   "version": "3.7.13"
  }
 },
 "nbformat": 4,
 "nbformat_minor": 5
}
